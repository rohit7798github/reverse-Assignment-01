{
  "nbformat": 4,
  "nbformat_minor": 0,
  "metadata": {
    "colab": {
      "provenance": [],
      "collapsed_sections": [],
      "authorship_tag": "ABX9TyN6mvVnXYvFn+ljiMJ4WfeI",
      "include_colab_link": true
    },
    "kernelspec": {
      "name": "python3",
      "display_name": "Python 3"
    },
    "language_info": {
      "name": "python"
    }
  },
  "cells": [
    {
      "cell_type": "markdown",
      "metadata": {
        "id": "view-in-github",
        "colab_type": "text"
      },
      "source": [
        "<a href=\"https://colab.research.google.com/github/rohit7798github/reverse-Assignment-01/blob/main/Reverse_Assignment_01.ipynb\" target=\"_parent\"><img src=\"https://colab.research.google.com/assets/colab-badge.svg\" alt=\"Open In Colab\"/></a>"
      ]
    },
    {
      "cell_type": "code",
      "execution_count": 2,
      "metadata": {
        "colab": {
          "base_uri": "https://localhost:8080/"
        },
        "id": "k0s4nCiKafVA",
        "outputId": "4713419e-57cf-44ef-e93b-a9c7ec0b21ee"
      },
      "outputs": [
        {
          "output_type": "stream",
          "name": "stdout",
          "text": [
            "input your string name:Edyoda\n",
            "adoydE \n"
          ]
        }
      ],
      "source": [
        "str = input('input your string name:')\n",
        "str_rev = ' '\n",
        "for i in str:\n",
        "  str_rev = i+str_rev\n",
        "print(str_rev)  "
      ]
    }
  ]
}